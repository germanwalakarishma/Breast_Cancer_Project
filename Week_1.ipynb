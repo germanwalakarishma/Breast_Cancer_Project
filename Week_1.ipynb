{
  "nbformat": 4,
  "nbformat_minor": 0,
  "metadata": {
    "colab": {
      "name": "Untitled4.ipynb",
      "provenance": [],
      "collapsed_sections": []
    },
    "kernelspec": {
      "name": "python3",
      "display_name": "Python 3"
    }
  },
  "cells": [
    {
      "cell_type": "code",
      "metadata": {
        "id": "VtuHlRXOh_mr",
        "colab_type": "code",
        "colab": {}
      },
      "source": [
        "import numpy as np\n",
        "import pandas as pd"
      ],
      "execution_count": 0,
      "outputs": []
    },
    {
      "cell_type": "code",
      "metadata": {
        "id": "lDy_QIW2iJn7",
        "colab_type": "code",
        "colab": {
          "base_uri": "https://localhost:8080/",
          "height": 139
        },
        "outputId": "581399f2-c44c-4649-943b-d90076ea968a"
      },
      "source": [
        "# Question 1\n",
        "consecutiveNaturalNum = np.arange(18).reshape(6, 3)\n",
        "print(\"consecutive Natural Numbers::\\n{}\".format(consecutiveNaturalNum))"
      ],
      "execution_count": 2,
      "outputs": [
        {
          "output_type": "stream",
          "text": [
            "consecutive Natural Numbers::\n",
            "[[ 0  1  2]\n",
            " [ 3  4  5]\n",
            " [ 6  7  8]\n",
            " [ 9 10 11]\n",
            " [12 13 14]\n",
            " [15 16 17]]\n"
          ],
          "name": "stdout"
        }
      ]
    },
    {
      "cell_type": "code",
      "metadata": {
        "id": "2hrqCQBdiPlW",
        "colab_type": "code",
        "colab": {
          "base_uri": "https://localhost:8080/",
          "height": 208
        },
        "outputId": "d0459f24-d374-45c5-e372-8a302a739033"
      },
      "source": [
        "# Question 2\n",
        "df = pd.read_excel(\"Week 1 Dataset.xlsx\")\n",
        "\n",
        "df2 = df.rename(columns={\"Name\": \"FirstName\", \"Income per month\": \"Income\",\n",
        "                         \"State\": \"State_name\", \"Age\": \"Age_Num\", \"Sex\": \"Gender\", \"Number of siblings\": \"Siblings\"})\n",
        "print(df2)"
      ],
      "execution_count": 3,
      "outputs": [
        {
          "output_type": "stream",
          "text": [
            "  FirstName  Income     State_name  Age_Num Gender  Siblings\n",
            "0         A      50     Tamil Nadu       23      M         0\n",
            "1         B      34      Karnataka       37      F         3\n",
            "2         C      54     Tamil Nadu       35      F         1\n",
            "3         D      24  Uttar Pradesh       26      F         4\n",
            "4         E      19          Bihar       59      M         5\n",
            "5         F      21          Bihar       48      M         6\n",
            "6         G      40          Delhi       30      F         2\n",
            "7         H      20  Uttar Pradesh       72      M        10\n",
            "8         I      30      Telangana       22      F         0\n",
            "9         J      18    Chattisgarh       42      M         7\n"
          ],
          "name": "stdout"
        }
      ]
    },
    {
      "cell_type": "code",
      "metadata": {
        "id": "h7nWD1LEiW8j",
        "colab_type": "code",
        "colab": {
          "base_uri": "https://localhost:8080/",
          "height": 399
        },
        "outputId": "fdb9fb2b-b744-45ba-e3dd-4a8e7215ebfc"
      },
      "source": [
        "# Question 3\n",
        "\n",
        "df.rename(columns={\"Name\": \"FirstName\", \"Income per month\": \"Income\",\n",
        "                   \"State\": \"State_name\", \"Age\": \"Age_Num\", \"Sex\": \"Gender\",\n",
        "                   \"Number of siblings\": \"Siblings\"}, inplace=True)\n",
        "print(df)\n",
        "print(df[[\"FirstName\", \"State_name\", \"Age_Num\"]])"
      ],
      "execution_count": 4,
      "outputs": [
        {
          "output_type": "stream",
          "text": [
            "  FirstName  Income     State_name  Age_Num Gender  Siblings\n",
            "0         A      50     Tamil Nadu       23      M         0\n",
            "1         B      34      Karnataka       37      F         3\n",
            "2         C      54     Tamil Nadu       35      F         1\n",
            "3         D      24  Uttar Pradesh       26      F         4\n",
            "4         E      19          Bihar       59      M         5\n",
            "5         F      21          Bihar       48      M         6\n",
            "6         G      40          Delhi       30      F         2\n",
            "7         H      20  Uttar Pradesh       72      M        10\n",
            "8         I      30      Telangana       22      F         0\n",
            "9         J      18    Chattisgarh       42      M         7\n",
            "  FirstName     State_name  Age_Num\n",
            "0         A     Tamil Nadu       23\n",
            "1         B      Karnataka       37\n",
            "2         C     Tamil Nadu       35\n",
            "3         D  Uttar Pradesh       26\n",
            "4         E          Bihar       59\n",
            "5         F          Bihar       48\n",
            "6         G          Delhi       30\n",
            "7         H  Uttar Pradesh       72\n",
            "8         I      Telangana       22\n",
            "9         J    Chattisgarh       42\n"
          ],
          "name": "stdout"
        }
      ]
    },
    {
      "cell_type": "code",
      "metadata": {
        "id": "P59scR7QibQm",
        "colab_type": "code",
        "colab": {
          "base_uri": "https://localhost:8080/",
          "height": 225
        },
        "outputId": "10564c97-9036-43f7-f5fe-b397adcff945"
      },
      "source": [
        "# Question 4\n",
        "df4 = pd.read_excel(\"Week 1 Dataset.xlsx\")\n",
        "df4 = df4.iloc[0:10, -2:]\n",
        "print(\"iloc\\n\", df4)"
      ],
      "execution_count": 5,
      "outputs": [
        {
          "output_type": "stream",
          "text": [
            "iloc\n",
            "   Sex  Number of siblings\n",
            "0   M                   0\n",
            "1   F                   3\n",
            "2   F                   1\n",
            "3   F                   4\n",
            "4   M                   5\n",
            "5   M                   6\n",
            "6   F                   2\n",
            "7   M                  10\n",
            "8   F                   0\n",
            "9   M                   7\n"
          ],
          "name": "stdout"
        }
      ]
    },
    {
      "cell_type": "code",
      "metadata": {
        "id": "g9QxJNdIieQo",
        "colab_type": "code",
        "colab": {
          "base_uri": "https://localhost:8080/",
          "height": 173
        },
        "outputId": "2f390ec7-46c2-4817-ddcc-8ccd0f55cdfb"
      },
      "source": [
        "# Question 5\n",
        "df5 = pd.read_excel(\"Week 1 Dataset.xlsx\")\n",
        "df5 = df5.iloc[3:10, 1:5]\n",
        "print(\"iloc\\n\", df5)"
      ],
      "execution_count": 6,
      "outputs": [
        {
          "output_type": "stream",
          "text": [
            "iloc\n",
            "    Income per month          State  Age Sex\n",
            "3                24  Uttar Pradesh   26   F\n",
            "4                19          Bihar   59   M\n",
            "5                21          Bihar   48   M\n",
            "6                40          Delhi   30   F\n",
            "7                20  Uttar Pradesh   72   M\n",
            "8                30      Telangana   22   F\n",
            "9                18    Chattisgarh   42   M\n"
          ],
          "name": "stdout"
        }
      ]
    },
    {
      "cell_type": "code",
      "metadata": {
        "id": "4J0t04yOihd0",
        "colab_type": "code",
        "colab": {
          "base_uri": "https://localhost:8080/",
          "height": 208
        },
        "outputId": "dbf51c0c-3063-4092-bf1a-73f3c20cee0c"
      },
      "source": [
        "# Question 6\n",
        "df6 = pd.read_excel(\"Week 1 Dataset.xlsx\")\n",
        "# print(\"Sum :: \", sum(df6[\"Number of siblings\"]))\n",
        "print(\"Count :: \\n\", df6[\"Number of siblings\"].value_counts())"
      ],
      "execution_count": 7,
      "outputs": [
        {
          "output_type": "stream",
          "text": [
            "Count :: \n",
            " 0     2\n",
            "10    1\n",
            "7     1\n",
            "6     1\n",
            "5     1\n",
            "4     1\n",
            "3     1\n",
            "2     1\n",
            "1     1\n",
            "Name: Number of siblings, dtype: int64\n"
          ],
          "name": "stdout"
        }
      ]
    },
    {
      "cell_type": "markdown",
      "metadata": {
        "id": "K90evkcTisa1",
        "colab_type": "text"
      },
      "source": [
        "# Question 7\n",
        "\n",
        "Dependant variables - number of siblings\n",
        "\n",
        "Independant variables - Income per month,age"
      ]
    },
    {
      "cell_type": "markdown",
      "metadata": {
        "id": "qTtJxCpki-af",
        "colab_type": "text"
      },
      "source": [
        "# Question 8\n",
        "\n",
        "Each square shows correlation between variables in the dataset. As correlation value ranges from -1 to +1 so value close to 1 means more positively correlated the variables are, closer to 1 means stronger the relationship is.\n",
        "\n",
        "A correlation closer to -1 is similar,but instead of both increasing one variable will decrease as the other increases.\n",
        "\n",
        "According to graph shown, all diagonals shown as 100% in squares(cream white) are correlating each variable to itself which means they are perfectly or strongly correlated.\n",
        "\n",
        "For rest, larger the percentage number, higher the correlation between two variables.\n",
        "\n",
        "As 86% is more close to 100%, higher is the correlation between those variables.\n",
        "\n",
        "-57% implies that the relationship between the variables are negatively correlated to each other.\n",
        "\n",
        "For -77%, since its approaching to -100%, more strongly and negatively correlation is between two variables."
      ]
    }
  ]
}